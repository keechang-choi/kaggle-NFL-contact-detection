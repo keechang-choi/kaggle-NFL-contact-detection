{
 "cells": [
  {
   "cell_type": "code",
   "execution_count": 1,
   "metadata": {},
   "outputs": [],
   "source": [
    "%load_ext autoreload\n",
    "%autoreload 2"
   ]
  },
  {
   "cell_type": "code",
   "execution_count": 58,
   "metadata": {},
   "outputs": [],
   "source": [
    "import os\n",
    "import random\n",
    "import torch\n",
    "import numpy as np\n",
    "import pytorch_lightning as pl\n",
    "from pytorch_lightning.loggers import TensorBoardLogger\n",
    "import argparse\n",
    "from pytorch_lightning.callbacks.early_stopping import EarlyStopping\n",
    "import sys\n",
    "import pandas as pd\n",
    "# 일단 __init__.py 추가해서 이렇게 해놨음.\n",
    "BASE_PATH='/workspaces/kaggle-NFL-contact-detection'\n",
    "sys.path.append(os.path.join(BASE_PATH, \"src\"))\n",
    "\n",
    "from config import CFG\n",
    "# TODO: data dir train/pred 구분.\n",
    "CFG[\"dataset_params\"][\"data_dir\"] = os.path.join(BASE_PATH, \"data\")\n",
    "from factory.dataset_factory import DataSetFactory\n",
    "from factory.lightning_module_factory import LightningModuleFactory\n",
    "from train import seed_everything"
   ]
  },
  {
   "cell_type": "code",
   "execution_count": 26,
   "metadata": {},
   "outputs": [
    {
     "data": {
      "text/plain": [
       "'cuda'"
      ]
     },
     "execution_count": 26,
     "metadata": {},
     "output_type": "execute_result"
    }
   ],
   "source": [
    "seed_everything(CFG['seed'])\n",
    "device_str = \"cpu\"\n",
    "if torch.cuda.is_available():\n",
    "    device_str = \"cuda\"\n",
    "elif torch.backends.mps.is_available():\n",
    "    device_str = \"mps\"\n",
    "device_str"
   ]
  },
  {
   "cell_type": "code",
   "execution_count": 27,
   "metadata": {},
   "outputs": [],
   "source": [
    "saved_model_path = os.path.join(\n",
    "    BASE_PATH, \n",
    "    \"epoch=9-step=33340.ckpt\"\n",
    ")"
   ]
  },
  {
   "cell_type": "code",
   "execution_count": 28,
   "metadata": {},
   "outputs": [
    {
     "name": "stderr",
     "output_type": "stream",
     "text": [
      "GPU available: True (cuda), used: True\n",
      "TPU available: False, using: 0 TPU cores\n",
      "IPU available: False, using: 0 IPUs\n",
      "HPU available: False, using: 0 HPUs\n"
     ]
    }
   ],
   "source": [
    "\n",
    "model_name = f\"{CFG['model_name']}-{CFG['model_version']}\"\n",
    "dataset_params = CFG['dataset_params']\n",
    "model_params = CFG['model_params']\n",
    "data_module = DataSetFactory.get_dataset(name=model_name,\n",
    "                                            params=dataset_params)\n",
    "lightning_module = LightningModuleFactory.get_lightning_module(name=model_name,\n",
    "                                                                load_path=saved_model_path,\n",
    "                                                                params=model_params)\n",
    "\n",
    "trainer = pl.Trainer(max_epochs=CFG[\"epochs\"],\n",
    "                        accelerator=device_str,\n",
    "                        devices=1 if device_str != \"cpu\" else None,\n",
    "                        logger=False,\n",
    "                        callbacks=[EarlyStopping(monitor=\"val_loss\", mode=\"min\", patience=3)])"
   ]
  },
  {
   "cell_type": "code",
   "execution_count": 33,
   "metadata": {},
   "outputs": [
    {
     "name": "stdout",
     "output_type": "stream",
     "text": [
      "test videos: 47330\n"
     ]
    },
    {
     "name": "stderr",
     "output_type": "stream",
     "text": [
      "100%|██████████| 4/4 [00:00<00:00, 10672.53it/s]\n"
     ]
    },
    {
     "name": "stdout",
     "output_type": "stream",
     "text": [
      "train videos: 3783616\n"
     ]
    },
    {
     "name": "stderr",
     "output_type": "stream",
     "text": [
      "100%|██████████| 481/481 [00:00<00:00, 188494.84it/s]"
     ]
    },
    {
     "name": "stdout",
     "output_type": "stream",
     "text": [
      "Generating dataset: test\n"
     ]
    },
    {
     "name": "stderr",
     "output_type": "stream",
     "text": [
      "\n"
     ]
    },
    {
     "name": "stdout",
     "output_type": "stream",
     "text": [
      "contact\n",
      "0    6631\n",
      "Name: contact, dtype: int64\n"
     ]
    },
    {
     "name": "stderr",
     "output_type": "stream",
     "text": [
      "100%|██████████| 4/4 [00:00<00:00, 510.50it/s]\n",
      "100%|██████████| 2/2 [00:00<00:00,  2.58it/s]\n",
      "LOCAL_RANK: 0 - CUDA_VISIBLE_DEVICES: [0]\n"
     ]
    },
    {
     "name": "stdout",
     "output_type": "stream",
     "text": [
      "Predicting DataLoader 0: 100%|██████████| 277/277 [01:34<00:00,  2.94it/s]\n"
     ]
    }
   ],
   "source": [
    "predictions = trainer.predict(\n",
    "    model=lightning_module, \n",
    "    datamodule=data_module)\n"
   ]
  },
  {
   "cell_type": "code",
   "execution_count": 34,
   "metadata": {},
   "outputs": [],
   "source": [
    "df_filtered = data_module.dataset_pred.df"
   ]
  },
  {
   "cell_type": "code",
   "execution_count": 53,
   "metadata": {},
   "outputs": [],
   "source": [
    "y_pred = []\n",
    "for p in predictions:\n",
    "    y_pred += p.tolist() \n",
    "y_pred_np = np.array(y_pred)"
   ]
  },
  {
   "cell_type": "code",
   "execution_count": 54,
   "metadata": {},
   "outputs": [
    {
     "data": {
      "text/plain": [
       "(6631, 6631)"
      ]
     },
     "execution_count": 54,
     "metadata": {},
     "output_type": "execute_result"
    }
   ],
   "source": [
    "len(y_pred_np), len(df_filtered)"
   ]
  },
  {
   "cell_type": "code",
   "execution_count": 57,
   "metadata": {},
   "outputs": [
    {
     "data": {
      "text/plain": [
       "contact\n",
       "0    5767\n",
       "1     864\n",
       "Name: contact, dtype: int64"
      ]
     },
     "execution_count": 57,
     "metadata": {},
     "output_type": "execute_result"
    }
   ],
   "source": [
    "df_filtered['contact'] = (y_pred_np >= CFG[\"threshold\"]).astype('int')\n",
    "df_filtered.groupby(\"contact\")[\"contact\"].count()"
   ]
  },
  {
   "cell_type": "code",
   "execution_count": 59,
   "metadata": {},
   "outputs": [
    {
     "data": {
      "text/html": [
       "<div>\n",
       "<style scoped>\n",
       "    .dataframe tbody tr th:only-of-type {\n",
       "        vertical-align: middle;\n",
       "    }\n",
       "\n",
       "    .dataframe tbody tr th {\n",
       "        vertical-align: top;\n",
       "    }\n",
       "\n",
       "    .dataframe thead th {\n",
       "        text-align: right;\n",
       "    }\n",
       "</style>\n",
       "<table border=\"1\" class=\"dataframe\">\n",
       "  <thead>\n",
       "    <tr style=\"text-align: right;\">\n",
       "      <th></th>\n",
       "      <th>contact_id</th>\n",
       "      <th>contact</th>\n",
       "    </tr>\n",
       "  </thead>\n",
       "  <tbody>\n",
       "    <tr>\n",
       "      <th>0</th>\n",
       "      <td>58168_003392_0_38590_43854</td>\n",
       "      <td>0</td>\n",
       "    </tr>\n",
       "    <tr>\n",
       "      <th>1</th>\n",
       "      <td>58168_003392_0_38590_41257</td>\n",
       "      <td>0</td>\n",
       "    </tr>\n",
       "    <tr>\n",
       "      <th>2</th>\n",
       "      <td>58168_003392_0_38590_41944</td>\n",
       "      <td>0</td>\n",
       "    </tr>\n",
       "    <tr>\n",
       "      <th>3</th>\n",
       "      <td>58168_003392_0_38590_42386</td>\n",
       "      <td>0</td>\n",
       "    </tr>\n",
       "    <tr>\n",
       "      <th>4</th>\n",
       "      <td>58168_003392_0_38590_47944</td>\n",
       "      <td>0</td>\n",
       "    </tr>\n",
       "  </tbody>\n",
       "</table>\n",
       "</div>"
      ],
      "text/plain": [
       "                   contact_id  contact\n",
       "0  58168_003392_0_38590_43854        0\n",
       "1  58168_003392_0_38590_41257        0\n",
       "2  58168_003392_0_38590_41944        0\n",
       "3  58168_003392_0_38590_42386        0\n",
       "4  58168_003392_0_38590_47944        0"
      ]
     },
     "execution_count": 59,
     "metadata": {},
     "output_type": "execute_result"
    }
   ],
   "source": [
    "\n",
    "sub = pd.read_csv(os.path.join(CFG[\"dataset_params\"][\"data_dir\"], 'sample_submission.csv'))\n",
    "\n",
    "sub = sub.drop(\"contact\", axis=1).merge(df_filtered[['contact_id', 'contact']], how='left', on='contact_id')\n",
    "sub['contact'] = sub['contact'].fillna(0).astype('int')\n",
    "\n",
    "sub[[\"contact_id\", \"contact\"]].to_csv(\"submission.csv\", index=False)\n",
    "\n",
    "sub.head()"
   ]
  },
  {
   "cell_type": "code",
   "execution_count": null,
   "metadata": {},
   "outputs": [],
   "source": []
  }
 ],
 "metadata": {
  "kernelspec": {
   "display_name": "base",
   "language": "python",
   "name": "python3"
  },
  "language_info": {
   "codemirror_mode": {
    "name": "ipython",
    "version": 3
   },
   "file_extension": ".py",
   "mimetype": "text/x-python",
   "name": "python",
   "nbconvert_exporter": "python",
   "pygments_lexer": "ipython3",
   "version": "3.10.8"
  },
  "orig_nbformat": 4,
  "vscode": {
   "interpreter": {
    "hash": "d4d1e4263499bec80672ea0156c357c1ee493ec2b1c70f0acce89fc37c4a6abe"
   }
  }
 },
 "nbformat": 4,
 "nbformat_minor": 2
}
