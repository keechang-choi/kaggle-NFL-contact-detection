{
 "cells": [
  {
   "attachments": {},
   "cell_type": "markdown",
   "metadata": {},
   "source": [
    "- 이 파일 셀들을 복사해서 제출 notebook 만든다.\n",
    "- 이 repo의 src, third-party, ckpt를 압축한다. \n",
    "  - ex) submission_files.zip\n",
    "- 하나의 directory로 업로드 한다.\n",
    "  - /kaggle/input/submission_files 로 올린다.\n",
    "  - 압축 알아서 풀려있음"
   ]
  },
  {
   "cell_type": "code",
   "execution_count": 1,
   "metadata": {},
   "outputs": [],
   "source": [
    "%load_ext autoreload\n",
    "%autoreload 2"
   ]
  },
  {
   "cell_type": "code",
   "execution_count": 2,
   "metadata": {},
   "outputs": [
    {
     "name": "stderr",
     "output_type": "stream",
     "text": [
      "/opt/conda/lib/python3.10/site-packages/tqdm/auto.py:22: TqdmWarning: IProgress not found. Please update jupyter and ipywidgets. See https://ipywidgets.readthedocs.io/en/stable/user_install.html\n",
      "  from .autonotebook import tqdm as notebook_tqdm\n"
     ]
    }
   ],
   "source": [
    "import os\n",
    "import random\n",
    "import torch\n",
    "import numpy as np\n",
    "import pytorch_lightning as pl\n",
    "from pytorch_lightning.loggers import TensorBoardLogger\n",
    "import argparse\n",
    "from pytorch_lightning.callbacks.early_stopping import EarlyStopping\n",
    "import sys\n",
    "import pandas as pd\n",
    "# 일단 __init__.py 추가해서 이렇게 해놨음.\n",
    "BASE_PATH='/workspaces/kaggle-NFL-contact-detection'\n",
    "sys.path.append(os.path.join(BASE_PATH, \"src\"))\n",
    "\n",
    "# timm as third-party\n",
    "sys.path.append(os.path.join(BASE_PATH, 'third-party/pytorch-image-models'))\n",
    "\n",
    "from config import CFG\n",
    "from factory.dataset_factory import DataSetFactory\n",
    "from factory.lightning_module_factory import LightningModuleFactory\n",
    "from train import seed_everything"
   ]
  },
  {
   "cell_type": "code",
   "execution_count": 3,
   "metadata": {},
   "outputs": [],
   "source": [
    "# TODO: data dir train/pred 구분.\n",
    "CFG[\"dataset_params\"][\"data_dir\"] = os.path.join(BASE_PATH, \"data\")\n",
    "CFG[\"dataset_params\"][\"preprocess_result_dir\"] = os.path.join(BASE_PATH, \"data/processed\")\n",
    "CFG[\"is_prediction\"] = True\n",
    "CFG[\"is_submission\"] = True\n",
    "CFG[\"threshold\"] = 0.344"
   ]
  },
  {
   "cell_type": "code",
   "execution_count": 4,
   "metadata": {},
   "outputs": [
    {
     "data": {
      "text/plain": [
       "'cuda'"
      ]
     },
     "execution_count": 4,
     "metadata": {},
     "output_type": "execute_result"
    }
   ],
   "source": [
    "seed_everything(CFG['seed'])\n",
    "device_str = \"cpu\"\n",
    "if torch.cuda.is_available():\n",
    "    device_str = \"cuda\"\n",
    "device_str"
   ]
  },
  {
   "cell_type": "code",
   "execution_count": 5,
   "metadata": {},
   "outputs": [],
   "source": [
    "saved_model_path = os.path.join(\n",
    "    BASE_PATH, \n",
    "    \"epoch-8-step-198180-012222.ckpt\"\n",
    ")"
   ]
  },
  {
   "cell_type": "code",
   "execution_count": 59,
   "metadata": {},
   "outputs": [
    {
     "name": "stderr",
     "output_type": "stream",
     "text": [
      "Lightning automatically upgraded your loaded checkpoint from v1.8.6 to v1.9.0. To apply the upgrade to your files permanently, run `python -m pytorch_lightning.utilities.upgrade_checkpoint --file ../epoch-8-step-198180-012222.ckpt`\n",
      "GPU available: True (cuda), used: True\n",
      "TPU available: False, using: 0 TPU cores\n",
      "IPU available: False, using: 0 IPUs\n",
      "HPU available: False, using: 0 HPUs\n"
     ]
    }
   ],
   "source": [
    "\n",
    "model_name = f\"{CFG['model_name']}-{CFG['model_version']}\"\n",
    "dataset_params = CFG['dataset_params']\n",
    "model_params = CFG['model_params']\n",
    "data_module = DataSetFactory.get_dataset(name=model_name,\n",
    "                                            params=dataset_params)\n",
    "lightning_module = LightningModuleFactory.get_lightning_module(name=model_name,\n",
    "                                                                load_path=saved_model_path,\n",
    "                                                                params=model_params)\n",
    "\n",
    "trainer = pl.Trainer(max_epochs=CFG[\"epochs\"],\n",
    "                        accelerator=device_str,\n",
    "                        devices=1 if device_str != \"cpu\" else None,\n",
    "                        logger=False\n",
    "                    )"
   ]
  },
  {
   "cell_type": "code",
   "execution_count": 66,
   "metadata": {},
   "outputs": [
    {
     "name": "stdout",
     "output_type": "stream",
     "text": [
      "====== [Preprocess] ======\n",
      "- is_prediction: True\n",
      "- run_type: test\n",
      "------ [Loading Metadata] ------\n",
      "------ [ffmpeg] ------\n",
      "ffmpeg frames test\n"
     ]
    },
    {
     "name": "stderr",
     "output_type": "stream",
     "text": [
      "100%|██████████| 4/4 [00:00<00:00, 10631.95it/s]\n"
     ]
    },
    {
     "name": "stdout",
     "output_type": "stream",
     "text": [
      "------ [Mapping metadata] ------\n",
      "Mapping video2helmets [size: 4]\n"
     ]
    },
    {
     "name": "stderr",
     "output_type": "stream",
     "text": [
      "100%|██████████| 4/4 [00:00<00:00, 164.83it/s]\n"
     ]
    },
    {
     "name": "stdout",
     "output_type": "stream",
     "text": [
      "-- Mapping video2frames: [size: 2]\n"
     ]
    },
    {
     "name": "stderr",
     "output_type": "stream",
     "text": [
      "100%|██████████| 2/2 [00:00<00:00,  2.38it/s]\n"
     ]
    },
    {
     "name": "stdout",
     "output_type": "stream",
     "text": [
      "------ [Preprocess helmet sensor data] ------\n",
      "Expand contact id\n",
      "Create features\n"
     ]
    },
    {
     "name": "stderr",
     "output_type": "stream",
     "text": [
      "You are using a CUDA device ('NVIDIA GeForce RTX 3070 Ti') that has Tensor Cores. To properly utilize them, you should set `torch.set_float32_matmul_precision('medium' | 'high')` which will trade-off precision for performance. For more details, read https://pytorch.org/docs/stable/generated/torch.set_float32_matmul_precision.html#torch.set_float32_matmul_precision\n"
     ]
    },
    {
     "name": "stdout",
     "output_type": "stream",
     "text": [
      "------ [Setup dataset] ------\n",
      "====== Generating dataset  ======\n",
      "- stage: predict\n",
      "------ [Load metadata] ------\n",
      "-- Label count predict: \n",
      "contact\n",
      "0    6631\n",
      "Name: contact, dtype: int64\n",
      "- predict_dataset_size: 6631\n"
     ]
    },
    {
     "name": "stderr",
     "output_type": "stream",
     "text": [
      "LOCAL_RANK: 0 - CUDA_VISIBLE_DEVICES: [0]\n"
     ]
    },
    {
     "name": "stdout",
     "output_type": "stream",
     "text": [
      "Predicting DataLoader 0: 100%|██████████| 277/277 [00:55<00:00,  4.97it/s]\n"
     ]
    }
   ],
   "source": [
    "predictions = trainer.predict(\n",
    "    model=lightning_module, \n",
    "    datamodule=data_module)\n"
   ]
  },
  {
   "cell_type": "code",
   "execution_count": 67,
   "metadata": {},
   "outputs": [],
   "source": [
    "df_filtered = data_module.dataset_pred.df"
   ]
  },
  {
   "cell_type": "code",
   "execution_count": 68,
   "metadata": {},
   "outputs": [],
   "source": [
    "y_pred = []\n",
    "for p in predictions:\n",
    "    y_pred += p.tolist() \n",
    "y_pred_np = np.array(y_pred)"
   ]
  },
  {
   "cell_type": "code",
   "execution_count": 69,
   "metadata": {},
   "outputs": [
    {
     "data": {
      "text/plain": [
       "(6631, 6631)"
      ]
     },
     "execution_count": 69,
     "metadata": {},
     "output_type": "execute_result"
    }
   ],
   "source": [
    "len(y_pred_np), len(df_filtered)"
   ]
  },
  {
   "cell_type": "code",
   "execution_count": null,
   "metadata": {},
   "outputs": [],
   "source": []
  },
  {
   "cell_type": "code",
   "execution_count": null,
   "metadata": {},
   "outputs": [],
   "source": []
  },
  {
   "cell_type": "code",
   "execution_count": 70,
   "metadata": {},
   "outputs": [
    {
     "data": {
      "text/plain": [
       "contact\n",
       "0    5705\n",
       "1     926\n",
       "Name: contact, dtype: int64"
      ]
     },
     "execution_count": 70,
     "metadata": {},
     "output_type": "execute_result"
    }
   ],
   "source": [
    "df_filtered['contact'] = (y_pred_np >= CFG[\"threshold\"]).astype('int')\n",
    "df_filtered.groupby(\"contact\")[\"contact\"].count()"
   ]
  },
  {
   "cell_type": "code",
   "execution_count": 71,
   "metadata": {},
   "outputs": [
    {
     "data": {
      "text/html": [
       "<div>\n",
       "<style scoped>\n",
       "    .dataframe tbody tr th:only-of-type {\n",
       "        vertical-align: middle;\n",
       "    }\n",
       "\n",
       "    .dataframe tbody tr th {\n",
       "        vertical-align: top;\n",
       "    }\n",
       "\n",
       "    .dataframe thead th {\n",
       "        text-align: right;\n",
       "    }\n",
       "</style>\n",
       "<table border=\"1\" class=\"dataframe\">\n",
       "  <thead>\n",
       "    <tr style=\"text-align: right;\">\n",
       "      <th></th>\n",
       "      <th>contact_id</th>\n",
       "      <th>contact</th>\n",
       "    </tr>\n",
       "  </thead>\n",
       "  <tbody>\n",
       "    <tr>\n",
       "      <th>0</th>\n",
       "      <td>58168_003392_0_38590_43854</td>\n",
       "      <td>0</td>\n",
       "    </tr>\n",
       "    <tr>\n",
       "      <th>1</th>\n",
       "      <td>58168_003392_0_38590_41257</td>\n",
       "      <td>0</td>\n",
       "    </tr>\n",
       "    <tr>\n",
       "      <th>2</th>\n",
       "      <td>58168_003392_0_38590_41944</td>\n",
       "      <td>0</td>\n",
       "    </tr>\n",
       "    <tr>\n",
       "      <th>3</th>\n",
       "      <td>58168_003392_0_38590_42386</td>\n",
       "      <td>0</td>\n",
       "    </tr>\n",
       "    <tr>\n",
       "      <th>4</th>\n",
       "      <td>58168_003392_0_38590_47944</td>\n",
       "      <td>0</td>\n",
       "    </tr>\n",
       "  </tbody>\n",
       "</table>\n",
       "</div>"
      ],
      "text/plain": [
       "                   contact_id  contact\n",
       "0  58168_003392_0_38590_43854        0\n",
       "1  58168_003392_0_38590_41257        0\n",
       "2  58168_003392_0_38590_41944        0\n",
       "3  58168_003392_0_38590_42386        0\n",
       "4  58168_003392_0_38590_47944        0"
      ]
     },
     "execution_count": 71,
     "metadata": {},
     "output_type": "execute_result"
    }
   ],
   "source": [
    "\n",
    "sub = pd.read_csv(os.path.join(CFG[\"dataset_params\"][\"data_dir\"], 'sample_submission.csv'))\n",
    "\n",
    "sub = sub.drop(\"contact\", axis=1).merge(df_filtered[['contact_id', 'contact']], how='left', on='contact_id')\n",
    "sub['contact'] = sub['contact'].fillna(0).astype('int')\n",
    "\n",
    "sub[[\"contact_id\", \"contact\"]].to_csv(\"submission.csv\", index=False)\n",
    "\n",
    "sub.head()"
   ]
  },
  {
   "cell_type": "code",
   "execution_count": 72,
   "metadata": {},
   "outputs": [],
   "source": [
    "# test for threshold"
   ]
  },
  {
   "cell_type": "code",
   "execution_count": 52,
   "metadata": {},
   "outputs": [
    {
     "name": "stdout",
     "output_type": "stream",
     "text": [
      "====== [Preprocess] ======\n",
      "- is_prediction: True\n",
      "- run_type: test\n",
      "------ [Loading Metadata] ------\n",
      "------ [ffmpeg] ------\n",
      "ffmpeg frames test\n"
     ]
    },
    {
     "name": "stderr",
     "output_type": "stream",
     "text": [
      "100%|██████████| 4/4 [00:00<00:00, 13443.28it/s]\n"
     ]
    },
    {
     "name": "stdout",
     "output_type": "stream",
     "text": [
      "------ [Mapping metadata] ------\n",
      "Mapping video2helmets [size: 4]\n"
     ]
    },
    {
     "name": "stderr",
     "output_type": "stream",
     "text": [
      "100%|██████████| 4/4 [00:00<00:00, 354.68it/s]\n"
     ]
    },
    {
     "name": "stdout",
     "output_type": "stream",
     "text": [
      "-- Mapping video2frames: [size: 2]\n"
     ]
    },
    {
     "name": "stderr",
     "output_type": "stream",
     "text": [
      "100%|██████████| 2/2 [00:00<00:00,  2.52it/s]\n"
     ]
    },
    {
     "name": "stdout",
     "output_type": "stream",
     "text": [
      "------ [Preprocess helmet sensor data] ------\n",
      "Expand contact id\n",
      "Create features\n"
     ]
    },
    {
     "name": "stderr",
     "output_type": "stream",
     "text": [
      "You are using a CUDA device ('NVIDIA GeForce RTX 3070 Ti') that has Tensor Cores. To properly utilize them, you should set `torch.set_float32_matmul_precision('medium' | 'high')` which will trade-off precision for performance. For more details, read https://pytorch.org/docs/stable/generated/torch.set_float32_matmul_precision.html#torch.set_float32_matmul_precision\n"
     ]
    },
    {
     "name": "stdout",
     "output_type": "stream",
     "text": [
      "------ [Setup dataset] ------\n",
      "====== Generating dataset  ======\n",
      "- stage: test\n",
      "------ [Load metadata] ------\n",
      "-- num_videos: 24/240\n",
      "-- Label count test: \n",
      "contact\n",
      "0    58681\n",
      "1     6696\n",
      "Name: contact, dtype: int64\n"
     ]
    },
    {
     "name": "stderr",
     "output_type": "stream",
     "text": [
      "LOCAL_RANK: 0 - CUDA_VISIBLE_DEVICES: [0]\n"
     ]
    },
    {
     "name": "stdout",
     "output_type": "stream",
     "text": [
      "- test_dataset_size: 65377\n",
      "Testing DataLoader 0: 100%|██████████| 2725/2725 [08:08<00:00,  5.58it/s]====== [Test contact counts] ======\n",
      "-- preds  : 8447.0/65377\n",
      "-- labels : 6696.0/65377\n",
      "\n",
      "Testing DataLoader 0: 100%|██████████| 2725/2725 [08:08<00:00,  5.58it/s]\n",
      "────────────────────────────────────────────────────────────────────────────────────────────────────────────────────────\n",
      "       Test metric             DataLoader 0\n",
      "────────────────────────────────────────────────────────────────────────────────────────────────────────────────────────\n",
      "      test_acc_step         0.9236275553703308\n",
      "        test_loss           0.1631290316581726\n",
      "        test_mcc            0.6331592798233032\n",
      "────────────────────────────────────────────────────────────────────────────────────────────────────────────────────────\n"
     ]
    },
    {
     "data": {
      "text/plain": [
       "[{'test_loss': 0.1631290316581726,\n",
       "  'test_acc_step': 0.9236275553703308,\n",
       "  'test_mcc': 0.6331592798233032}]"
      ]
     },
     "execution_count": 52,
     "metadata": {},
     "output_type": "execute_result"
    }
   ],
   "source": [
    "trainer.test(model=lightning_module, datamodule=data_module)"
   ]
  },
  {
   "cell_type": "code",
   "execution_count": 55,
   "metadata": {},
   "outputs": [],
   "source": [
    "outputs_cat = torch.cat(trainer.model.last_test_output)\n",
    "y, labels = outputs_cat[:, 0], outputs_cat[:, 1]\n",
    "thresholds = np.arange(0.0,1.0, 0.001)\n",
    "\n",
    "mccs = []\n",
    "ratio_y = []\n",
    "ratio_labels = []\n",
    "for threshold in thresholds:\n",
    "\n",
    "    preds = (y > threshold).float()\n",
    "    # print(\n",
    "    #     f\"====== [Test contact counts] ======\\n\"\n",
    "    #     f\"-- preds  : {torch.sum(preds)}/{len(preds)}\\n\"\n",
    "    #     f\"-- labels : {torch.sum(labels)}/{len(labels)}\\n\")\n",
    "\n",
    "    mcc_loss = trainer.model.mcc_loss(preds, labels)\n",
    "    mcc = 1.0 - mcc_loss\n",
    "    # print(mcc.item())\n",
    "    mccs.append(mcc.item())\n",
    "    ratio_y.append(torch.sum(preds).item()/len(preds))\n",
    "    ratio_labels.append(torch.sum(labels).item()/len(preds))\n",
    "    \n",
    "mccs = np.array(mccs)\n",
    "ratio_y = np.array(ratio_y)\n",
    "ratio_labels = np.array(ratio_labels)"
   ]
  },
  {
   "cell_type": "code",
   "execution_count": 54,
   "metadata": {},
   "outputs": [
    {
     "data": {
      "image/png": "[encoded data removed]",
      "text/plain": [
       "<Figure size 640x480 with 1 Axes>"
      ]
     },
     "metadata": {},
     "output_type": "display_data"
    }
   ],
   "source": [
    "import matplotlib.pyplot as plt\n",
    "fig, ax = plt.subplots()\n",
    "ax.plot(thresholds, mccs, label=\"mcc\") \n",
    "ax.plot(thresholds, ratio_y, label=\"ratio_y\") \n",
    "ax.plot(thresholds, ratio_labels, label=\"ratio_label\")\n",
    "ax.set_xlabel(\"threshold\")\n",
    "ax.set_ylabel(\"mcc, ratio\")\n",
    "ax.legend()\n",
    "\n",
    "def annot_max(x,y, ax=None):\n",
    "    xmax = x[np.argmax(y)]\n",
    "    ymax = y.max()\n",
    "    text= \"x={:.3f}, y={:.3f}\".format(xmax, ymax)\n",
    "    if not ax:\n",
    "        ax=plt.gca()\n",
    "    bbox_props = dict(boxstyle=\"square,pad=0.3\", fc=\"w\", ec=\"k\", lw=0.72)\n",
    "    arrowprops=dict(arrowstyle=\"->\",connectionstyle=\"angle,angleA=0,angleB=60\")\n",
    "    kw = dict(xycoords='data',textcoords=\"offset points\",\n",
    "              arrowprops=arrowprops, bbox=bbox_props, ha=\"right\", va=\"top\")\n",
    "    ax.annotate(text, xy=(xmax, ymax), xytext=(200, 40), **kw)\n",
    "    \n",
    "\n",
    "annot_max(thresholds, mccs)\n",
    "annot_max(thresholds, ratio_labels - np.abs(ratio_y - ratio_labels))\n",
    "plt.show()"
   ]
  },
  {
   "cell_type": "code",
   "execution_count": null,
   "metadata": {},
   "outputs": [],
   "source": []
  }
 ],
 "metadata": {
  "kernelspec": {
   "display_name": "base",
   "language": "python",
   "name": "python3"
  },
  "language_info": {
   "codemirror_mode": {
    "name": "ipython",
    "version": 3
   },
   "file_extension": ".py",
   "mimetype": "text/x-python",
   "name": "python",
   "nbconvert_exporter": "python",
   "pygments_lexer": "ipython3",
   "version": "3.10.8"
  },
  "orig_nbformat": 4,
  "vscode": {
   "interpreter": {
    "hash": "d4d1e4263499bec80672ea0156c357c1ee493ec2b1c70f0acce89fc37c4a6abe"
   }
  }
 },
 "nbformat": 4,
 "nbformat_minor": 2
}
